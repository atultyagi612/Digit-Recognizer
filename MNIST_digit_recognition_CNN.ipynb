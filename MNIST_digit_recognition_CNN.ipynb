{
 "cells": [
  {
   "cell_type": "code",
   "execution_count": 1,
   "metadata": {
    "id": "YVBKM_2yi9nv"
   },
   "outputs": [],
   "source": [
    "import pandas as pd\n",
    "import seaborn as sns\n",
    "import matplotlib.pyplot as plt\n",
    "import  numpy as np\n",
    "from keras.utils.np_utils import to_categorical"
   ]
  },
  {
   "cell_type": "markdown",
   "metadata": {},
   "source": [
    "# Load data"
   ]
  },
  {
   "cell_type": "code",
   "execution_count": 2,
   "metadata": {
    "id": "mKPhNzPwkJOo"
   },
   "outputs": [],
   "source": [
    "train=pd.read_csv('./data/train.csv')\n",
    "test=pd.read_csv('./data/test.csv')"
   ]
  },
  {
   "cell_type": "code",
   "execution_count": 3,
   "metadata": {
    "colab": {
     "base_uri": "https://localhost:8080/",
     "height": 190
    },
    "id": "GYfmHH-8-FL_",
    "outputId": "709a0be9-c85e-4394-f6af-81e781343d5d"
   },
   "outputs": [
    {
     "data": {
      "text/html": [
       "<div>\n",
       "<style scoped>\n",
       "    .dataframe tbody tr th:only-of-type {\n",
       "        vertical-align: middle;\n",
       "    }\n",
       "\n",
       "    .dataframe tbody tr th {\n",
       "        vertical-align: top;\n",
       "    }\n",
       "\n",
       "    .dataframe thead th {\n",
       "        text-align: right;\n",
       "    }\n",
       "</style>\n",
       "<table border=\"1\" class=\"dataframe\">\n",
       "  <thead>\n",
       "    <tr style=\"text-align: right;\">\n",
       "      <th></th>\n",
       "      <th>label</th>\n",
       "      <th>pixel0</th>\n",
       "      <th>pixel1</th>\n",
       "      <th>pixel2</th>\n",
       "      <th>pixel3</th>\n",
       "      <th>pixel4</th>\n",
       "      <th>pixel5</th>\n",
       "      <th>pixel6</th>\n",
       "      <th>pixel7</th>\n",
       "      <th>pixel8</th>\n",
       "      <th>...</th>\n",
       "      <th>pixel774</th>\n",
       "      <th>pixel775</th>\n",
       "      <th>pixel776</th>\n",
       "      <th>pixel777</th>\n",
       "      <th>pixel778</th>\n",
       "      <th>pixel779</th>\n",
       "      <th>pixel780</th>\n",
       "      <th>pixel781</th>\n",
       "      <th>pixel782</th>\n",
       "      <th>pixel783</th>\n",
       "    </tr>\n",
       "  </thead>\n",
       "  <tbody>\n",
       "    <tr>\n",
       "      <th>0</th>\n",
       "      <td>1</td>\n",
       "      <td>0</td>\n",
       "      <td>0</td>\n",
       "      <td>0</td>\n",
       "      <td>0</td>\n",
       "      <td>0</td>\n",
       "      <td>0</td>\n",
       "      <td>0</td>\n",
       "      <td>0</td>\n",
       "      <td>0</td>\n",
       "      <td>...</td>\n",
       "      <td>0</td>\n",
       "      <td>0</td>\n",
       "      <td>0</td>\n",
       "      <td>0</td>\n",
       "      <td>0</td>\n",
       "      <td>0</td>\n",
       "      <td>0</td>\n",
       "      <td>0</td>\n",
       "      <td>0</td>\n",
       "      <td>0</td>\n",
       "    </tr>\n",
       "    <tr>\n",
       "      <th>1</th>\n",
       "      <td>0</td>\n",
       "      <td>0</td>\n",
       "      <td>0</td>\n",
       "      <td>0</td>\n",
       "      <td>0</td>\n",
       "      <td>0</td>\n",
       "      <td>0</td>\n",
       "      <td>0</td>\n",
       "      <td>0</td>\n",
       "      <td>0</td>\n",
       "      <td>...</td>\n",
       "      <td>0</td>\n",
       "      <td>0</td>\n",
       "      <td>0</td>\n",
       "      <td>0</td>\n",
       "      <td>0</td>\n",
       "      <td>0</td>\n",
       "      <td>0</td>\n",
       "      <td>0</td>\n",
       "      <td>0</td>\n",
       "      <td>0</td>\n",
       "    </tr>\n",
       "    <tr>\n",
       "      <th>2</th>\n",
       "      <td>1</td>\n",
       "      <td>0</td>\n",
       "      <td>0</td>\n",
       "      <td>0</td>\n",
       "      <td>0</td>\n",
       "      <td>0</td>\n",
       "      <td>0</td>\n",
       "      <td>0</td>\n",
       "      <td>0</td>\n",
       "      <td>0</td>\n",
       "      <td>...</td>\n",
       "      <td>0</td>\n",
       "      <td>0</td>\n",
       "      <td>0</td>\n",
       "      <td>0</td>\n",
       "      <td>0</td>\n",
       "      <td>0</td>\n",
       "      <td>0</td>\n",
       "      <td>0</td>\n",
       "      <td>0</td>\n",
       "      <td>0</td>\n",
       "    </tr>\n",
       "  </tbody>\n",
       "</table>\n",
       "<p>3 rows × 785 columns</p>\n",
       "</div>"
      ],
      "text/plain": [
       "   label  pixel0  pixel1  pixel2  pixel3  pixel4  pixel5  pixel6  pixel7  \\\n",
       "0      1       0       0       0       0       0       0       0       0   \n",
       "1      0       0       0       0       0       0       0       0       0   \n",
       "2      1       0       0       0       0       0       0       0       0   \n",
       "\n",
       "   pixel8  ...  pixel774  pixel775  pixel776  pixel777  pixel778  pixel779  \\\n",
       "0       0  ...         0         0         0         0         0         0   \n",
       "1       0  ...         0         0         0         0         0         0   \n",
       "2       0  ...         0         0         0         0         0         0   \n",
       "\n",
       "   pixel780  pixel781  pixel782  pixel783  \n",
       "0         0         0         0         0  \n",
       "1         0         0         0         0  \n",
       "2         0         0         0         0  \n",
       "\n",
       "[3 rows x 785 columns]"
      ]
     },
     "execution_count": 3,
     "metadata": {},
     "output_type": "execute_result"
    }
   ],
   "source": [
    "train.head(3)"
   ]
  },
  {
   "cell_type": "code",
   "execution_count": 4,
   "metadata": {
    "colab": {
     "base_uri": "https://localhost:8080/"
    },
    "id": "Rkx9dcEwkLTM",
    "outputId": "c59b7364-ecd4-4d16-c215-5923476d51f9"
   },
   "outputs": [
    {
     "data": {
      "text/plain": [
       "(42000, 785)"
      ]
     },
     "execution_count": 4,
     "metadata": {},
     "output_type": "execute_result"
    }
   ],
   "source": [
    "train.shape"
   ]
  },
  {
   "cell_type": "code",
   "execution_count": 5,
   "metadata": {
    "colab": {
     "base_uri": "https://localhost:8080/"
    },
    "id": "xse4k4NN-M79",
    "outputId": "84b9f115-17b5-40b5-ab7b-d0b64277c904"
   },
   "outputs": [
    {
     "data": {
      "text/plain": [
       "(28000, 784)"
      ]
     },
     "execution_count": 5,
     "metadata": {},
     "output_type": "execute_result"
    }
   ],
   "source": [
    "test.shape"
   ]
  },
  {
   "cell_type": "code",
   "execution_count": 6,
   "metadata": {
    "colab": {
     "base_uri": "https://localhost:8080/",
     "height": 350
    },
    "id": "GbLTwuDB-OmI",
    "outputId": "377d3c15-9cf2-4118-f08d-c31d0b9db0a2"
   },
   "outputs": [
    {
     "name": "stderr",
     "output_type": "stream",
     "text": [
      "c:\\users\\acer\\appdata\\local\\programs\\python\\python36\\lib\\site-packages\\seaborn\\_decorators.py:43: FutureWarning: Pass the following variable as a keyword arg: x. From version 0.12, the only valid positional argument will be `data`, and passing other arguments without an explicit keyword will result in an error or misinterpretation.\n",
      "  FutureWarning\n"
     ]
    },
    {
     "data": {
      "text/plain": [
       "<AxesSubplot:xlabel='label', ylabel='count'>"
      ]
     },
     "execution_count": 6,
     "metadata": {},
     "output_type": "execute_result"
    },
    {
     "data": {
      "image/png": "[encoded data removed]",
      "text/plain": [
       "<Figure size 432x288 with 1 Axes>"
      ]
     },
     "metadata": {
      "needs_background": "light"
     },
     "output_type": "display_data"
    }
   ],
   "source": [
    "sns.countplot(train['label'])"
   ]
  },
  {
   "cell_type": "code",
   "execution_count": 7,
   "metadata": {
    "id": "BxnfxIh-kOOl"
   },
   "outputs": [],
   "source": [
    "x_train=train.drop(['label'],1)\n",
    "y_train=train['label']"
   ]
  },
  {
   "cell_type": "code",
   "execution_count": 8,
   "metadata": {
    "id": "ebITLZKpkWHW"
   },
   "outputs": [],
   "source": [
    "x_train=np.array(x_train)\n",
    "test=np.array(test)"
   ]
  },
  {
   "cell_type": "code",
   "execution_count": 9,
   "metadata": {
    "colab": {
     "base_uri": "https://localhost:8080/"
    },
    "id": "yvjvdgOL-Yg3",
    "outputId": "24692590-b8f8-4325-8fc9-fc00414996a6"
   },
   "outputs": [
    {
     "data": {
      "text/plain": [
       "(42000, 784)"
      ]
     },
     "execution_count": 9,
     "metadata": {},
     "output_type": "execute_result"
    }
   ],
   "source": [
    "x_train.shape"
   ]
  },
  {
   "cell_type": "code",
   "execution_count": 10,
   "metadata": {
    "colab": {
     "base_uri": "https://localhost:8080/"
    },
    "id": "XYg5cmYw-bys",
    "outputId": "a6041715-4161-45ae-eeba-7499aae6a80b"
   },
   "outputs": [
    {
     "data": {
      "text/plain": [
       "(28000, 784)"
      ]
     },
     "execution_count": 10,
     "metadata": {},
     "output_type": "execute_result"
    }
   ],
   "source": [
    "test.shape"
   ]
  },
  {
   "cell_type": "code",
   "execution_count": 11,
   "metadata": {
    "id": "4_MngD2xkXSc"
   },
   "outputs": [],
   "source": [
    "x_train=x_train.reshape(42000,28,28)\n",
    "test=test.reshape(28000,28,28)"
   ]
  },
  {
   "cell_type": "code",
   "execution_count": 12,
   "metadata": {
    "id": "ADxcUaaCkYsR"
   },
   "outputs": [],
   "source": [
    "x_train=x_train/255\n",
    "test=test/255"
   ]
  },
  {
   "cell_type": "code",
   "execution_count": 13,
   "metadata": {
    "colab": {
     "base_uri": "https://localhost:8080/",
     "height": 279
    },
    "id": "e69SJVZOkZ7k",
    "outputId": "bc0a9bcd-2cfe-47b2-872b-6e9b3452f2d0"
   },
   "outputs": [
    {
     "data": {
      "image/png": "[encoded data removed]",
      "text/plain": [
       "<Figure size 432x288 with 1 Axes>"
      ]
     },
     "metadata": {
      "needs_background": "light"
     },
     "output_type": "display_data"
    }
   ],
   "source": [
    "def show_img(i):\n",
    "    plt.imshow(x_train[i],cmap='gray')\n",
    "    plt.xlabel(y_train[i])\n",
    "show_img(0)"
   ]
  },
  {
   "cell_type": "code",
   "execution_count": 14,
   "metadata": {
    "colab": {
     "base_uri": "https://localhost:8080/"
    },
    "id": "4L1rMUbWka8-",
    "outputId": "21bcd34e-5579-43e7-c8af-fe3af6acdbae"
   },
   "outputs": [
    {
     "data": {
      "text/plain": [
       "(42000, 10)"
      ]
     },
     "execution_count": 14,
     "metadata": {},
     "output_type": "execute_result"
    }
   ],
   "source": [
    "target=x_train.reshape(-1,28,28,1)\n",
    "test=test.reshape(-1,28,28,1)\n",
    "y_train=np.array(y_train)\n",
    "label=to_categorical(y_train)\n",
    "label.shape"
   ]
  },
  {
   "cell_type": "markdown",
   "metadata": {},
   "source": [
    "# Model creation"
   ]
  },
  {
   "cell_type": "code",
   "execution_count": 15,
   "metadata": {},
   "outputs": [],
   "source": [
    "from keras.models import Sequential\n",
    "from keras.layers import Conv2D,MaxPooling2D,Flatten,Dense,Dropout"
   ]
  },
  {
   "cell_type": "code",
   "execution_count": 16,
   "metadata": {
    "id": "oAvq-J_ukg1e"
   },
   "outputs": [],
   "source": [
    "model=Sequential([\n",
    "    Conv2D(32,(5,5) , activation='relu' , input_shape=(28,28,1)),\n",
    "    MaxPooling2D(pool_size=(2,2)),\n",
    "    \n",
    "    Conv2D(64,(5,5), activation ='relu'),\n",
    "    MaxPooling2D(pool_size=(2,2)),\n",
    "    Dropout(0.25),\n",
    "    \n",
    "    Conv2D(64,(3,3), activation ='relu'),\n",
    "    MaxPooling2D(pool_size=(2,2)),\n",
    "    Dropout(0.25),\n",
    "    \n",
    "    Flatten(),\n",
    "    Dense(64, activation='relu'),\n",
    "    Dense(10, activation='softmax')\n",
    "])"
   ]
  },
  {
   "cell_type": "code",
   "execution_count": 17,
   "metadata": {
    "id": "dZRdQRp1kiEA"
   },
   "outputs": [],
   "source": [
    "model.compile(optimizer='adam',loss='categorical_crossentropy',metrics=['accuracy'])"
   ]
  },
  {
   "cell_type": "markdown",
   "metadata": {},
   "source": [
    "# Model training"
   ]
  },
  {
   "cell_type": "code",
   "execution_count": 18,
   "metadata": {
    "colab": {
     "base_uri": "https://localhost:8080/"
    },
    "id": "Ddlhm6WIkjJ9",
    "outputId": "b0316cde-7396-4715-bdb4-af864fca9421"
   },
   "outputs": [
    {
     "name": "stdout",
     "output_type": "stream",
     "text": [
      "Epoch 1/40\n",
      "657/657 [==============================] - 62s 46ms/step - loss: 0.7861 - accuracy: 0.7402\n",
      "Epoch 2/40\n",
      "657/657 [==============================] - 24s 37ms/step - loss: 0.1031 - accuracy: 0.9687\n",
      "Epoch 3/40\n",
      "657/657 [==============================] - 22s 34ms/step - loss: 0.0734 - accuracy: 0.9783\n",
      "Epoch 4/40\n",
      "657/657 [==============================] - 22s 34ms/step - loss: 0.0586 - accuracy: 0.9827\n",
      "Epoch 5/40\n",
      "657/657 [==============================] - 23s 35ms/step - loss: 0.0479 - accuracy: 0.9853\n",
      "Epoch 6/40\n",
      "657/657 [==============================] - 23s 36ms/step - loss: 0.0414 - accuracy: 0.9870\n",
      "Epoch 7/40\n",
      "657/657 [==============================] - 23s 35ms/step - loss: 0.0380 - accuracy: 0.9886\n",
      "Epoch 8/40\n",
      "657/657 [==============================] - 23s 35ms/step - loss: 0.0321 - accuracy: 0.9900\n",
      "Epoch 9/40\n",
      "657/657 [==============================] - 23s 35ms/step - loss: 0.0320 - accuracy: 0.9895\n",
      "Epoch 10/40\n",
      "657/657 [==============================] - 23s 35ms/step - loss: 0.0284 - accuracy: 0.9910\n",
      "Epoch 11/40\n",
      "657/657 [==============================] - 23s 35ms/step - loss: 0.0273 - accuracy: 0.9909\n",
      "Epoch 12/40\n",
      "657/657 [==============================] - 23s 35ms/step - loss: 0.0245 - accuracy: 0.9918\n",
      "Epoch 13/40\n",
      "657/657 [==============================] - 23s 35ms/step - loss: 0.0226 - accuracy: 0.9933\n",
      "Epoch 14/40\n",
      "657/657 [==============================] - 23s 35ms/step - loss: 0.0232 - accuracy: 0.9927\n",
      "Epoch 15/40\n",
      "657/657 [==============================] - 23s 35ms/step - loss: 0.0218 - accuracy: 0.9930\n",
      "Epoch 16/40\n",
      "657/657 [==============================] - 27s 41ms/step - loss: 0.0231 - accuracy: 0.9931\n",
      "Epoch 17/40\n",
      "657/657 [==============================] - 23s 36ms/step - loss: 0.0183 - accuracy: 0.9936\n",
      "Epoch 18/40\n",
      "657/657 [==============================] - 27s 41ms/step - loss: 0.0226 - accuracy: 0.9928\n",
      "Epoch 19/40\n",
      "657/657 [==============================] - 30s 45ms/step - loss: 0.0187 - accuracy: 0.9941\n",
      "Epoch 20/40\n",
      "657/657 [==============================] - 28s 42ms/step - loss: 0.0170 - accuracy: 0.9945\n",
      "Epoch 21/40\n",
      "657/657 [==============================] - 33s 50ms/step - loss: 0.0163 - accuracy: 0.9949\n",
      "Epoch 22/40\n",
      "657/657 [==============================] - 26s 40ms/step - loss: 0.0177 - accuracy: 0.9947\n",
      "Epoch 23/40\n",
      "657/657 [==============================] - 27s 40ms/step - loss: 0.0160 - accuracy: 0.9951\n",
      "Epoch 24/40\n",
      "657/657 [==============================] - 24s 36ms/step - loss: 0.0156 - accuracy: 0.9949\n",
      "Epoch 25/40\n",
      "657/657 [==============================] - 37s 56ms/step - loss: 0.0147 - accuracy: 0.9951\n",
      "Epoch 26/40\n",
      "657/657 [==============================] - 29s 44ms/step - loss: 0.0134 - accuracy: 0.9957\n",
      "Epoch 27/40\n",
      "657/657 [==============================] - 23s 36ms/step - loss: 0.0142 - accuracy: 0.9955\n",
      "Epoch 28/40\n",
      "657/657 [==============================] - 41s 62ms/step - loss: 0.0143 - accuracy: 0.9952\n",
      "Epoch 29/40\n",
      "657/657 [==============================] - 30s 46ms/step - loss: 0.0135 - accuracy: 0.9962\n",
      "Epoch 30/40\n",
      "657/657 [==============================] - 30s 46ms/step - loss: 0.0106 - accuracy: 0.9964\n",
      "Epoch 31/40\n",
      "657/657 [==============================] - 23s 36ms/step - loss: 0.0103 - accuracy: 0.9967\n",
      "Epoch 32/40\n",
      "657/657 [==============================] - 40s 60ms/step - loss: 0.0103 - accuracy: 0.9970\n",
      "Epoch 33/40\n",
      "657/657 [==============================] - 30s 46ms/step - loss: 0.0123 - accuracy: 0.9953\n",
      "Epoch 34/40\n",
      "657/657 [==============================] - 35s 53ms/step - loss: 0.0107 - accuracy: 0.9963\n",
      "Epoch 35/40\n",
      "657/657 [==============================] - 34s 51ms/step - loss: 0.0097 - accuracy: 0.9969\n",
      "Epoch 36/40\n",
      "657/657 [==============================] - 46s 70ms/step - loss: 0.0101 - accuracy: 0.9966\n",
      "Epoch 37/40\n",
      "657/657 [==============================] - ETA: 0s - loss: 0.0127 - accuracy: 0.99 - 35s 53ms/step - loss: 0.0127 - accuracy: 0.9957\n",
      "Epoch 38/40\n",
      "657/657 [==============================] - 38s 58ms/step - loss: 0.0098 - accuracy: 0.9968\n",
      "Epoch 39/40\n",
      "657/657 [==============================] - 34s 52ms/step - loss: 0.0105 - accuracy: 0.9968\n",
      "Epoch 40/40\n",
      "657/657 [==============================] - 23s 35ms/step - loss: 0.0089 - accuracy: 0.9972\n"
     ]
    },
    {
     "data": {
      "text/plain": [
       "<keras.callbacks.History at 0x2769c375518>"
      ]
     },
     "execution_count": 18,
     "metadata": {},
     "output_type": "execute_result"
    }
   ],
   "source": [
    "model.fit(target,label,epochs=40,batch_size=64)"
   ]
  },
  {
   "cell_type": "markdown",
   "metadata": {},
   "source": [
    "Testing model accuracy"
   ]
  },
  {
   "cell_type": "code",
   "execution_count": 20,
   "metadata": {
    "colab": {
     "base_uri": "https://localhost:8080/"
    },
    "id": "pmFs-9J7kqik",
    "outputId": "6e4e311c-b776-4872-8d90-f56892d4f981"
   },
   "outputs": [
    {
     "data": {
      "text/plain": [
       "0.99175"
      ]
     },
     "execution_count": 20,
     "metadata": {},
     "output_type": "execute_result"
    }
   ],
   "source": [
    "Y_pred = model.predict(test)\n",
    "Y_pred_classes = np.argmax(Y_pred,axis = 1) \n",
    "from sklearn.metrics import accuracy_score\n",
    "answ=pd.read_csv('submission.csv')\n",
    "accuracy_score(answ['Label'],Y_pred_classes)"
   ]
  },
  {
   "cell_type": "code",
   "execution_count": 21,
   "metadata": {
    "colab": {
     "base_uri": "https://localhost:8080/",
     "height": 529
    },
    "id": "TUAJ-btmBer6",
    "outputId": "b49a5e37-a1bc-4aad-b516-ebe82c4fc2c7"
   },
   "outputs": [
    {
     "data": {
      "text/plain": [
       "[]"
      ]
     },
     "execution_count": 21,
     "metadata": {},
     "output_type": "execute_result"
    },
    {
     "data": {
      "image/png": "[encoded data removed]",
      "text/plain": [
       "<Figure size 720x576 with 2 Axes>"
      ]
     },
     "metadata": {
      "needs_background": "light"
     },
     "output_type": "display_data"
    }
   ],
   "source": [
    "from sklearn.metrics import confusion_matrix\n",
    "confusion_mtx = confusion_matrix(answ['Label'], Y_pred_classes) \n",
    "plt.figure(figsize=(10,8))\n",
    "sns.heatmap(confusion_mtx,annot=True,annot_kws={\"size\": 10} , cmap=\"YlGnBu\")\n",
    "plt.xlabel('Predicted')\n",
    "plt.ylabel('Actual')\n",
    "plt.plot()"
   ]
  },
  {
   "cell_type": "markdown",
   "metadata": {},
   "source": [
    "# Model Testing"
   ]
  },
  {
   "cell_type": "code",
   "execution_count": 22,
   "metadata": {
    "id": "m80RSmVTANTg"
   },
   "outputs": [],
   "source": [
    "def test_output(i):\n",
    "  plt.imshow(x_train[i],cmap='gray')\n",
    "  predicted=np.argmax(model.predict(target[i].reshape(-1,28,28,1)))\n",
    "  actual=np.argmax(label[i])\n",
    "  plt.xlabel(f'predicted= {predicted}  Actual= {actual}')"
   ]
  },
  {
   "cell_type": "code",
   "execution_count": 23,
   "metadata": {
    "colab": {
     "base_uri": "https://localhost:8080/",
     "height": 279
    },
    "id": "ryLm5phnAwfW",
    "outputId": "48ac2d16-bc65-4932-d447-a4a368ca0a0b"
   },
   "outputs": [
    {
     "data": {
      "image/png": "[encoded data removed]",
      "text/plain": [
       "<Figure size 432x288 with 1 Axes>"
      ]
     },
     "metadata": {
      "needs_background": "light"
     },
     "output_type": "display_data"
    }
   ],
   "source": [
    "test_output(2)"
   ]
  },
  {
   "cell_type": "code",
   "execution_count": 24,
   "metadata": {
    "colab": {
     "base_uri": "https://localhost:8080/",
     "height": 279
    },
    "id": "ix_skAoCAyHI",
    "outputId": "222d77a2-0166-4f50-f6b9-aaa1bfdb54b6"
   },
   "outputs": [
    {
     "data": {
      "image/png": "[encoded data removed]",
      "text/plain": [
       "<Figure size 432x288 with 1 Axes>"
      ]
     },
     "metadata": {
      "needs_background": "light"
     },
     "output_type": "display_data"
    }
   ],
   "source": [
    "test_output(4)"
   ]
  },
  {
   "cell_type": "markdown",
   "metadata": {},
   "source": [
    "# Model testing using real world images"
   ]
  },
  {
   "cell_type": "code",
   "execution_count": 25,
   "metadata": {
    "id": "lNXxi7oVBT1_"
   },
   "outputs": [],
   "source": [
    "from PIL import Image, ImageGrab"
   ]
  },
  {
   "cell_type": "code",
   "execution_count": 26,
   "metadata": {
    "id": "DEI_xx9HD4dB"
   },
   "outputs": [],
   "source": [
    "def predict_digit1(img):\n",
    "    img = Image.open(img)\n",
    "    plt.imshow(img)\n",
    "    img = img.convert('L', dither=Image.NONE)\n",
    "    img = img.resize((28,28))\n",
    "    img = np.array(img)\n",
    "    img=np.invert(img)\n",
    "    predicted=np.argmax(model.predict(img.reshape(-1,28,28,1)))\n",
    "    # plt.imshow(img,interpolation='nearest')\n",
    "    plt.xlabel(f'Predicted= {predicted}')"
   ]
  },
  {
   "cell_type": "code",
   "execution_count": 28,
   "metadata": {
    "colab": {
     "base_uri": "https://localhost:8080/",
     "height": 300
    },
    "id": "-HDmfhDmEI48",
    "outputId": "713b8e29-bd4a-429e-9495-6f57c7089b9a"
   },
   "outputs": [
    {
     "data": {
      "image/png": "[encoded data removed]",
      "text/plain": [
       "<Figure size 432x288 with 1 Axes>"
      ]
     },
     "metadata": {
      "needs_background": "light"
     },
     "output_type": "display_data"
    }
   ],
   "source": [
    "predict_digit1('./Images/images.jfif')"
   ]
  },
  {
   "cell_type": "code",
   "execution_count": 29,
   "metadata": {
    "colab": {
     "base_uri": "https://localhost:8080/",
     "height": 272
    },
    "id": "m6nkMnYUEPn7",
    "outputId": "90d1a662-895d-4cec-cb69-356ad600e730"
   },
   "outputs": [
    {
     "data": {
      "image/png": "[encoded data removed]",
      "text/plain": [
       "<Figure size 432x288 with 1 Axes>"
      ]
     },
     "metadata": {
      "needs_background": "light"
     },
     "output_type": "display_data"
    }
   ],
   "source": [
    "predict_digit1('./Images/1.jpg')"
   ]
  },
  {
   "cell_type": "code",
   "execution_count": 30,
   "metadata": {
    "colab": {
     "base_uri": "https://localhost:8080/",
     "height": 300
    },
    "id": "KDifYOKsFMhG",
    "outputId": "c2b2cc2b-26ba-4d9f-8da5-fa117de5cedb"
   },
   "outputs": [
    {
     "data": {
      "image/png": "[encoded data removed]",
      "text/plain": [
       "<Figure size 432x288 with 1 Axes>"
      ]
     },
     "metadata": {
      "needs_background": "light"
     },
     "output_type": "display_data"
    }
   ],
   "source": [
    "predict_digit1('./Images/download.png')"
   ]
  },
  {
   "cell_type": "code",
   "execution_count": 31,
   "metadata": {
    "colab": {
     "base_uri": "https://localhost:8080/",
     "height": 301
    },
    "id": "Sr0lVpoXF0d-",
    "outputId": "2b9015cd-0ff0-48eb-c907-925d5beb7ed9"
   },
   "outputs": [
    {
     "data": {
      "image/png": "[encoded data removed]",
      "text/plain": [
       "<Figure size 432x288 with 1 Axes>"
      ]
     },
     "metadata": {
      "needs_background": "light"
     },
     "output_type": "display_data"
    }
   ],
   "source": [
    "predict_digit1('./Images/531-5314816_handwritten-1-number-9-hand-written-png-transparent.png')"
   ]
  },
  {
   "cell_type": "code",
   "execution_count": null,
   "metadata": {},
   "outputs": [],
   "source": []
  }
 ],
 "metadata": {
  "accelerator": "GPU",
  "colab": {
   "name": "MNIST digit recognition CNN.ipynb",
   "provenance": []
  },
  "kernelspec": {
   "display_name": "Python 3",
   "language": "python",
   "name": "python3"
  },
  "language_info": {
   "codemirror_mode": {
    "name": "ipython",
    "version": 3
   },
   "file_extension": ".py",
   "mimetype": "text/x-python",
   "name": "python",
   "nbconvert_exporter": "python",
   "pygments_lexer": "ipython3",
   "version": "3.6.1"
  }
 },
 "nbformat": 4,
 "nbformat_minor": 1
}
