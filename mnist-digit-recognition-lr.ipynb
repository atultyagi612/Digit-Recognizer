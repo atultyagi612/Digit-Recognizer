{
 "cells": [
  {
   "cell_type": "code",
   "execution_count": 1,
   "metadata": {
    "_cell_guid": "b1076dfc-b9ad-4769-8c92-a6c4dae69d19",
    "_uuid": "8f2839f25d086af736a60e9eeb907d3b93b6e0e5",
    "execution": {
     "iopub.execute_input": "2021-01-10T09:50:12.640586Z",
     "iopub.status.busy": "2021-01-10T09:50:12.639893Z",
     "iopub.status.idle": "2021-01-10T09:50:13.803548Z",
     "shell.execute_reply": "2021-01-10T09:50:13.804038Z"
    },
    "papermill": {
     "duration": 1.182021,
     "end_time": "2021-01-10T09:50:13.804207",
     "exception": false,
     "start_time": "2021-01-10T09:50:12.622186",
     "status": "completed"
    },
    "tags": []
   },
   "outputs": [
    {
     "name": "stdout",
     "output_type": "stream",
     "text": [
      "/kaggle/input/digit-recognizer/sample_submission.csv\n",
      "/kaggle/input/digit-recognizer/train.csv\n",
      "/kaggle/input/digit-recognizer/test.csv\n",
      "/kaggle/input/3image/3.jfif\n"
     ]
    }
   ],
   "source": [
    "# This Python 3 environment comes with many helpful analytics libraries installed\n",
    "# It is defined by the kaggle/python Docker image: https://github.com/kaggle/docker-python\n",
    "# For example, here's several helpful packages to load\n",
    "\n",
    "import numpy as np # linear algebra\n",
    "import pandas as pd # data processing, CSV file I/O (e.g. pd.read_csv)\n",
    "from sklearn.datasets import fetch_openml\n",
    "import matplotlib.pyplot as plt\n",
    "import matplotlib\n",
    "# Input data files are available in the read-only \"../input/\" directory\n",
    "# For example, running this (by clicking run or pressing Shift+Enter) will list all files under the input directory\n",
    "\n",
    "import os\n",
    "for dirname, _, filenames in os.walk('/kaggle/input'):\n",
    "    for filename in filenames:\n",
    "        print(os.path.join(dirname, filename))\n",
    "\n",
    "# You can write up to 20GB to the current directory (/kaggle/working/) that gets preserved as output when you create a version using \"Save & Run All\" \n",
    "# You can also write temporary files to /kaggle/temp/, but they won't be saved outside of the current session"
   ]
  },
  {
   "cell_type": "code",
   "execution_count": 2,
   "metadata": {
    "_cell_guid": "79c7e3d0-c299-4dcb-8224-4455121ee9b0",
    "_uuid": "d629ff2d2480ee46fbb7e2d37f6b5fab8052498a",
    "execution": {
     "iopub.execute_input": "2021-01-10T09:50:13.839051Z",
     "iopub.status.busy": "2021-01-10T09:50:13.838386Z",
     "iopub.status.idle": "2021-01-10T09:50:17.536087Z",
     "shell.execute_reply": "2021-01-10T09:50:17.535360Z"
    },
    "papermill": {
     "duration": 3.717001,
     "end_time": "2021-01-10T09:50:17.536223",
     "exception": false,
     "start_time": "2021-01-10T09:50:13.819222",
     "status": "completed"
    },
    "tags": []
   },
   "outputs": [],
   "source": [
    "data=pd.read_csv('../input/digit-recognizer/train.csv')"
   ]
  },
  {
   "cell_type": "code",
   "execution_count": 3,
   "metadata": {
    "execution": {
     "iopub.execute_input": "2021-01-10T09:50:17.577343Z",
     "iopub.status.busy": "2021-01-10T09:50:17.576549Z",
     "iopub.status.idle": "2021-01-10T09:50:17.607209Z",
     "shell.execute_reply": "2021-01-10T09:50:17.606584Z"
    },
    "papermill": {
     "duration": 0.05704,
     "end_time": "2021-01-10T09:50:17.607321",
     "exception": false,
     "start_time": "2021-01-10T09:50:17.550281",
     "status": "completed"
    },
    "tags": []
   },
   "outputs": [
    {
     "data": {
      "text/html": [
       "<div>\n",
       "<style scoped>\n",
       "    .dataframe tbody tr th:only-of-type {\n",
       "        vertical-align: middle;\n",
       "    }\n",
       "\n",
       "    .dataframe tbody tr th {\n",
       "        vertical-align: top;\n",
       "    }\n",
       "\n",
       "    .dataframe thead th {\n",
       "        text-align: right;\n",
       "    }\n",
       "</style>\n",
       "<table border=\"1\" class=\"dataframe\">\n",
       "  <thead>\n",
       "    <tr style=\"text-align: right;\">\n",
       "      <th></th>\n",
       "      <th>label</th>\n",
       "      <th>pixel0</th>\n",
       "      <th>pixel1</th>\n",
       "      <th>pixel2</th>\n",
       "      <th>pixel3</th>\n",
       "      <th>pixel4</th>\n",
       "      <th>pixel5</th>\n",
       "      <th>pixel6</th>\n",
       "      <th>pixel7</th>\n",
       "      <th>pixel8</th>\n",
       "      <th>...</th>\n",
       "      <th>pixel774</th>\n",
       "      <th>pixel775</th>\n",
       "      <th>pixel776</th>\n",
       "      <th>pixel777</th>\n",
       "      <th>pixel778</th>\n",
       "      <th>pixel779</th>\n",
       "      <th>pixel780</th>\n",
       "      <th>pixel781</th>\n",
       "      <th>pixel782</th>\n",
       "      <th>pixel783</th>\n",
       "    </tr>\n",
       "  </thead>\n",
       "  <tbody>\n",
       "    <tr>\n",
       "      <th>0</th>\n",
       "      <td>1</td>\n",
       "      <td>0</td>\n",
       "      <td>0</td>\n",
       "      <td>0</td>\n",
       "      <td>0</td>\n",
       "      <td>0</td>\n",
       "      <td>0</td>\n",
       "      <td>0</td>\n",
       "      <td>0</td>\n",
       "      <td>0</td>\n",
       "      <td>...</td>\n",
       "      <td>0</td>\n",
       "      <td>0</td>\n",
       "      <td>0</td>\n",
       "      <td>0</td>\n",
       "      <td>0</td>\n",
       "      <td>0</td>\n",
       "      <td>0</td>\n",
       "      <td>0</td>\n",
       "      <td>0</td>\n",
       "      <td>0</td>\n",
       "    </tr>\n",
       "    <tr>\n",
       "      <th>1</th>\n",
       "      <td>0</td>\n",
       "      <td>0</td>\n",
       "      <td>0</td>\n",
       "      <td>0</td>\n",
       "      <td>0</td>\n",
       "      <td>0</td>\n",
       "      <td>0</td>\n",
       "      <td>0</td>\n",
       "      <td>0</td>\n",
       "      <td>0</td>\n",
       "      <td>...</td>\n",
       "      <td>0</td>\n",
       "      <td>0</td>\n",
       "      <td>0</td>\n",
       "      <td>0</td>\n",
       "      <td>0</td>\n",
       "      <td>0</td>\n",
       "      <td>0</td>\n",
       "      <td>0</td>\n",
       "      <td>0</td>\n",
       "      <td>0</td>\n",
       "    </tr>\n",
       "    <tr>\n",
       "      <th>2</th>\n",
       "      <td>1</td>\n",
       "      <td>0</td>\n",
       "      <td>0</td>\n",
       "      <td>0</td>\n",
       "      <td>0</td>\n",
       "      <td>0</td>\n",
       "      <td>0</td>\n",
       "      <td>0</td>\n",
       "      <td>0</td>\n",
       "      <td>0</td>\n",
       "      <td>...</td>\n",
       "      <td>0</td>\n",
       "      <td>0</td>\n",
       "      <td>0</td>\n",
       "      <td>0</td>\n",
       "      <td>0</td>\n",
       "      <td>0</td>\n",
       "      <td>0</td>\n",
       "      <td>0</td>\n",
       "      <td>0</td>\n",
       "      <td>0</td>\n",
       "    </tr>\n",
       "    <tr>\n",
       "      <th>3</th>\n",
       "      <td>4</td>\n",
       "      <td>0</td>\n",
       "      <td>0</td>\n",
       "      <td>0</td>\n",
       "      <td>0</td>\n",
       "      <td>0</td>\n",
       "      <td>0</td>\n",
       "      <td>0</td>\n",
       "      <td>0</td>\n",
       "      <td>0</td>\n",
       "      <td>...</td>\n",
       "      <td>0</td>\n",
       "      <td>0</td>\n",
       "      <td>0</td>\n",
       "      <td>0</td>\n",
       "      <td>0</td>\n",
       "      <td>0</td>\n",
       "      <td>0</td>\n",
       "      <td>0</td>\n",
       "      <td>0</td>\n",
       "      <td>0</td>\n",
       "    </tr>\n",
       "    <tr>\n",
       "      <th>4</th>\n",
       "      <td>0</td>\n",
       "      <td>0</td>\n",
       "      <td>0</td>\n",
       "      <td>0</td>\n",
       "      <td>0</td>\n",
       "      <td>0</td>\n",
       "      <td>0</td>\n",
       "      <td>0</td>\n",
       "      <td>0</td>\n",
       "      <td>0</td>\n",
       "      <td>...</td>\n",
       "      <td>0</td>\n",
       "      <td>0</td>\n",
       "      <td>0</td>\n",
       "      <td>0</td>\n",
       "      <td>0</td>\n",
       "      <td>0</td>\n",
       "      <td>0</td>\n",
       "      <td>0</td>\n",
       "      <td>0</td>\n",
       "      <td>0</td>\n",
       "    </tr>\n",
       "    <tr>\n",
       "      <th>...</th>\n",
       "      <td>...</td>\n",
       "      <td>...</td>\n",
       "      <td>...</td>\n",
       "      <td>...</td>\n",
       "      <td>...</td>\n",
       "      <td>...</td>\n",
       "      <td>...</td>\n",
       "      <td>...</td>\n",
       "      <td>...</td>\n",
       "      <td>...</td>\n",
       "      <td>...</td>\n",
       "      <td>...</td>\n",
       "      <td>...</td>\n",
       "      <td>...</td>\n",
       "      <td>...</td>\n",
       "      <td>...</td>\n",
       "      <td>...</td>\n",
       "      <td>...</td>\n",
       "      <td>...</td>\n",
       "      <td>...</td>\n",
       "      <td>...</td>\n",
       "    </tr>\n",
       "    <tr>\n",
       "      <th>41995</th>\n",
       "      <td>0</td>\n",
       "      <td>0</td>\n",
       "      <td>0</td>\n",
       "      <td>0</td>\n",
       "      <td>0</td>\n",
       "      <td>0</td>\n",
       "      <td>0</td>\n",
       "      <td>0</td>\n",
       "      <td>0</td>\n",
       "      <td>0</td>\n",
       "      <td>...</td>\n",
       "      <td>0</td>\n",
       "      <td>0</td>\n",
       "      <td>0</td>\n",
       "      <td>0</td>\n",
       "      <td>0</td>\n",
       "      <td>0</td>\n",
       "      <td>0</td>\n",
       "      <td>0</td>\n",
       "      <td>0</td>\n",
       "      <td>0</td>\n",
       "    </tr>\n",
       "    <tr>\n",
       "      <th>41996</th>\n",
       "      <td>1</td>\n",
       "      <td>0</td>\n",
       "      <td>0</td>\n",
       "      <td>0</td>\n",
       "      <td>0</td>\n",
       "      <td>0</td>\n",
       "      <td>0</td>\n",
       "      <td>0</td>\n",
       "      <td>0</td>\n",
       "      <td>0</td>\n",
       "      <td>...</td>\n",
       "      <td>0</td>\n",
       "      <td>0</td>\n",
       "      <td>0</td>\n",
       "      <td>0</td>\n",
       "      <td>0</td>\n",
       "      <td>0</td>\n",
       "      <td>0</td>\n",
       "      <td>0</td>\n",
       "      <td>0</td>\n",
       "      <td>0</td>\n",
       "    </tr>\n",
       "    <tr>\n",
       "      <th>41997</th>\n",
       "      <td>7</td>\n",
       "      <td>0</td>\n",
       "      <td>0</td>\n",
       "      <td>0</td>\n",
       "      <td>0</td>\n",
       "      <td>0</td>\n",
       "      <td>0</td>\n",
       "      <td>0</td>\n",
       "      <td>0</td>\n",
       "      <td>0</td>\n",
       "      <td>...</td>\n",
       "      <td>0</td>\n",
       "      <td>0</td>\n",
       "      <td>0</td>\n",
       "      <td>0</td>\n",
       "      <td>0</td>\n",
       "      <td>0</td>\n",
       "      <td>0</td>\n",
       "      <td>0</td>\n",
       "      <td>0</td>\n",
       "      <td>0</td>\n",
       "    </tr>\n",
       "    <tr>\n",
       "      <th>41998</th>\n",
       "      <td>6</td>\n",
       "      <td>0</td>\n",
       "      <td>0</td>\n",
       "      <td>0</td>\n",
       "      <td>0</td>\n",
       "      <td>0</td>\n",
       "      <td>0</td>\n",
       "      <td>0</td>\n",
       "      <td>0</td>\n",
       "      <td>0</td>\n",
       "      <td>...</td>\n",
       "      <td>0</td>\n",
       "      <td>0</td>\n",
       "      <td>0</td>\n",
       "      <td>0</td>\n",
       "      <td>0</td>\n",
       "      <td>0</td>\n",
       "      <td>0</td>\n",
       "      <td>0</td>\n",
       "      <td>0</td>\n",
       "      <td>0</td>\n",
       "    </tr>\n",
       "    <tr>\n",
       "      <th>41999</th>\n",
       "      <td>9</td>\n",
       "      <td>0</td>\n",
       "      <td>0</td>\n",
       "      <td>0</td>\n",
       "      <td>0</td>\n",
       "      <td>0</td>\n",
       "      <td>0</td>\n",
       "      <td>0</td>\n",
       "      <td>0</td>\n",
       "      <td>0</td>\n",
       "      <td>...</td>\n",
       "      <td>0</td>\n",
       "      <td>0</td>\n",
       "      <td>0</td>\n",
       "      <td>0</td>\n",
       "      <td>0</td>\n",
       "      <td>0</td>\n",
       "      <td>0</td>\n",
       "      <td>0</td>\n",
       "      <td>0</td>\n",
       "      <td>0</td>\n",
       "    </tr>\n",
       "  </tbody>\n",
       "</table>\n",
       "<p>42000 rows × 785 columns</p>\n",
       "</div>"
      ],
      "text/plain": [
       "       label  pixel0  pixel1  pixel2  pixel3  pixel4  pixel5  pixel6  pixel7  \\\n",
       "0          1       0       0       0       0       0       0       0       0   \n",
       "1          0       0       0       0       0       0       0       0       0   \n",
       "2          1       0       0       0       0       0       0       0       0   \n",
       "3          4       0       0       0       0       0       0       0       0   \n",
       "4          0       0       0       0       0       0       0       0       0   \n",
       "...      ...     ...     ...     ...     ...     ...     ...     ...     ...   \n",
       "41995      0       0       0       0       0       0       0       0       0   \n",
       "41996      1       0       0       0       0       0       0       0       0   \n",
       "41997      7       0       0       0       0       0       0       0       0   \n",
       "41998      6       0       0       0       0       0       0       0       0   \n",
       "41999      9       0       0       0       0       0       0       0       0   \n",
       "\n",
       "       pixel8  ...  pixel774  pixel775  pixel776  pixel777  pixel778  \\\n",
       "0           0  ...         0         0         0         0         0   \n",
       "1           0  ...         0         0         0         0         0   \n",
       "2           0  ...         0         0         0         0         0   \n",
       "3           0  ...         0         0         0         0         0   \n",
       "4           0  ...         0         0         0         0         0   \n",
       "...       ...  ...       ...       ...       ...       ...       ...   \n",
       "41995       0  ...         0         0         0         0         0   \n",
       "41996       0  ...         0         0         0         0         0   \n",
       "41997       0  ...         0         0         0         0         0   \n",
       "41998       0  ...         0         0         0         0         0   \n",
       "41999       0  ...         0         0         0         0         0   \n",
       "\n",
       "       pixel779  pixel780  pixel781  pixel782  pixel783  \n",
       "0             0         0         0         0         0  \n",
       "1             0         0         0         0         0  \n",
       "2             0         0         0         0         0  \n",
       "3             0         0         0         0         0  \n",
       "4             0         0         0         0         0  \n",
       "...         ...       ...       ...       ...       ...  \n",
       "41995         0         0         0         0         0  \n",
       "41996         0         0         0         0         0  \n",
       "41997         0         0         0         0         0  \n",
       "41998         0         0         0         0         0  \n",
       "41999         0         0         0         0         0  \n",
       "\n",
       "[42000 rows x 785 columns]"
      ]
     },
     "execution_count": 3,
     "metadata": {},
     "output_type": "execute_result"
    }
   ],
   "source": [
    "data"
   ]
  },
  {
   "cell_type": "markdown",
   "metadata": {
    "papermill": {
     "duration": 0.01456,
     "end_time": "2021-01-10T09:50:17.637086",
     "exception": false,
     "start_time": "2021-01-10T09:50:17.622526",
     "status": "completed"
    },
    "tags": []
   },
   "source": [
    "Saperate data into x and y"
   ]
  },
  {
   "cell_type": "code",
   "execution_count": 4,
   "metadata": {
    "execution": {
     "iopub.execute_input": "2021-01-10T09:50:17.780303Z",
     "iopub.status.busy": "2021-01-10T09:50:17.779303Z",
     "iopub.status.idle": "2021-01-10T09:50:17.783058Z",
     "shell.execute_reply": "2021-01-10T09:50:17.782125Z"
    },
    "papermill": {
     "duration": 0.130815,
     "end_time": "2021-01-10T09:50:17.783184",
     "exception": false,
     "start_time": "2021-01-10T09:50:17.652369",
     "status": "completed"
    },
    "tags": []
   },
   "outputs": [],
   "source": [
    "x=data.drop(['label'],1)\n",
    "y=data['label']"
   ]
  },
  {
   "cell_type": "code",
   "execution_count": 5,
   "metadata": {
    "execution": {
     "iopub.execute_input": "2021-01-10T09:50:17.818503Z",
     "iopub.status.busy": "2021-01-10T09:50:17.817797Z",
     "iopub.status.idle": "2021-01-10T09:50:17.957229Z",
     "shell.execute_reply": "2021-01-10T09:50:17.956454Z"
    },
    "papermill": {
     "duration": 0.159177,
     "end_time": "2021-01-10T09:50:17.957356",
     "exception": false,
     "start_time": "2021-01-10T09:50:17.798179",
     "status": "completed"
    },
    "tags": []
   },
   "outputs": [],
   "source": [
    "x=np.array(x)"
   ]
  },
  {
   "cell_type": "markdown",
   "metadata": {
    "papermill": {
     "duration": 0.015833,
     "end_time": "2021-01-10T09:50:17.988368",
     "exception": false,
     "start_time": "2021-01-10T09:50:17.972535",
     "status": "completed"
    },
    "tags": []
   },
   "source": [
    "Check data"
   ]
  },
  {
   "cell_type": "code",
   "execution_count": 6,
   "metadata": {
    "execution": {
     "iopub.execute_input": "2021-01-10T09:50:18.026541Z",
     "iopub.status.busy": "2021-01-10T09:50:18.025888Z",
     "iopub.status.idle": "2021-01-10T09:50:18.210732Z",
     "shell.execute_reply": "2021-01-10T09:50:18.210188Z"
    },
    "papermill": {
     "duration": 0.20662,
     "end_time": "2021-01-10T09:50:18.210874",
     "exception": false,
     "start_time": "2021-01-10T09:50:18.004254",
     "status": "completed"
    },
    "tags": []
   },
   "outputs": [
    {
     "name": "stdout",
     "output_type": "stream",
     "text": [
      "1\n"
     ]
    },
    {
     "data": {
      "image/png": "[encoded data removed]",
      "text/plain": [
       "<Figure size 432x288 with 1 Axes>"
      ]
     },
     "metadata": {
      "needs_background": "light"
     },
     "output_type": "display_data"
    }
   ],
   "source": [
    "i=2\n",
    "some_digit=x[i]\n",
    "some_digit_image=some_digit.reshape(28,28)\n",
    "plt.imshow(some_digit_image,cmap=matplotlib.cm.binary,interpolation='nearest')\n",
    "print(y[i])"
   ]
  },
  {
   "cell_type": "code",
   "execution_count": 7,
   "metadata": {
    "execution": {
     "iopub.execute_input": "2021-01-10T09:50:18.248068Z",
     "iopub.status.busy": "2021-01-10T09:50:18.247115Z",
     "iopub.status.idle": "2021-01-10T09:50:18.251917Z",
     "shell.execute_reply": "2021-01-10T09:50:18.251337Z"
    },
    "papermill": {
     "duration": 0.025285,
     "end_time": "2021-01-10T09:50:18.252036",
     "exception": false,
     "start_time": "2021-01-10T09:50:18.226751",
     "status": "completed"
    },
    "tags": []
   },
   "outputs": [
    {
     "data": {
      "text/plain": [
       "(784,)"
      ]
     },
     "execution_count": 7,
     "metadata": {},
     "output_type": "execute_result"
    }
   ],
   "source": [
    "x[5].shape"
   ]
  },
  {
   "cell_type": "markdown",
   "metadata": {
    "papermill": {
     "duration": 0.016157,
     "end_time": "2021-01-10T09:50:18.284355",
     "exception": false,
     "start_time": "2021-01-10T09:50:18.268198",
     "status": "completed"
    },
    "tags": []
   },
   "source": [
    "LogisticRegression model"
   ]
  },
  {
   "cell_type": "code",
   "execution_count": 8,
   "metadata": {
    "execution": {
     "iopub.execute_input": "2021-01-10T09:50:18.321328Z",
     "iopub.status.busy": "2021-01-10T09:50:18.320643Z",
     "iopub.status.idle": "2021-01-10T09:50:18.588091Z",
     "shell.execute_reply": "2021-01-10T09:50:18.587330Z"
    },
    "papermill": {
     "duration": 0.287841,
     "end_time": "2021-01-10T09:50:18.588226",
     "exception": false,
     "start_time": "2021-01-10T09:50:18.300385",
     "status": "completed"
    },
    "tags": []
   },
   "outputs": [],
   "source": [
    "from sklearn.linear_model import LogisticRegression\n",
    "from sklearn.ensemble import RandomForestClassifier"
   ]
  },
  {
   "cell_type": "markdown",
   "metadata": {
    "papermill": {
     "duration": 0.016163,
     "end_time": "2021-01-10T09:50:18.620830",
     "exception": false,
     "start_time": "2021-01-10T09:50:18.604667",
     "status": "completed"
    },
    "tags": []
   },
   "source": [
    "Train model"
   ]
  },
  {
   "cell_type": "code",
   "execution_count": 9,
   "metadata": {
    "execution": {
     "iopub.execute_input": "2021-01-10T09:50:18.658429Z",
     "iopub.status.busy": "2021-01-10T09:50:18.657768Z",
     "iopub.status.idle": "2021-01-10T09:50:50.316174Z",
     "shell.execute_reply": "2021-01-10T09:50:50.316661Z"
    },
    "papermill": {
     "duration": 31.679705,
     "end_time": "2021-01-10T09:50:50.316800",
     "exception": false,
     "start_time": "2021-01-10T09:50:18.637095",
     "status": "completed"
    },
    "tags": []
   },
   "outputs": [
    {
     "data": {
      "text/plain": [
       "RandomForestClassifier()"
      ]
     },
     "execution_count": 9,
     "metadata": {},
     "output_type": "execute_result"
    }
   ],
   "source": [
    "LM=RandomForestClassifier()\n",
    "LM.fit(x,y)"
   ]
  },
  {
   "cell_type": "markdown",
   "metadata": {
    "papermill": {
     "duration": 0.016229,
     "end_time": "2021-01-10T09:50:50.349403",
     "exception": false,
     "start_time": "2021-01-10T09:50:50.333174",
     "status": "completed"
    },
    "tags": []
   },
   "source": [
    "Testing data"
   ]
  },
  {
   "cell_type": "code",
   "execution_count": 10,
   "metadata": {
    "execution": {
     "iopub.execute_input": "2021-01-10T09:50:50.389992Z",
     "iopub.status.busy": "2021-01-10T09:50:50.389266Z",
     "iopub.status.idle": "2021-01-10T09:50:52.777462Z",
     "shell.execute_reply": "2021-01-10T09:50:52.777988Z"
    },
    "papermill": {
     "duration": 2.41217,
     "end_time": "2021-01-10T09:50:52.778141",
     "exception": false,
     "start_time": "2021-01-10T09:50:50.365971",
     "status": "completed"
    },
    "tags": []
   },
   "outputs": [],
   "source": [
    "data_test=pd.read_csv('../input/digit-recognizer/test.csv')"
   ]
  },
  {
   "cell_type": "markdown",
   "metadata": {
    "papermill": {
     "duration": 0.016218,
     "end_time": "2021-01-10T09:50:52.811273",
     "exception": false,
     "start_time": "2021-01-10T09:50:52.795055",
     "status": "completed"
    },
    "tags": []
   },
   "source": [
    "convert data_test into array"
   ]
  },
  {
   "cell_type": "code",
   "execution_count": 11,
   "metadata": {
    "execution": {
     "iopub.execute_input": "2021-01-10T09:50:52.849961Z",
     "iopub.status.busy": "2021-01-10T09:50:52.849263Z",
     "iopub.status.idle": "2021-01-10T09:50:52.941154Z",
     "shell.execute_reply": "2021-01-10T09:50:52.941707Z"
    },
    "papermill": {
     "duration": 0.112551,
     "end_time": "2021-01-10T09:50:52.941888",
     "exception": false,
     "start_time": "2021-01-10T09:50:52.829337",
     "status": "completed"
    },
    "tags": []
   },
   "outputs": [],
   "source": [
    "test=np.array(data_test)"
   ]
  },
  {
   "cell_type": "code",
   "execution_count": 12,
   "metadata": {
    "execution": {
     "iopub.execute_input": "2021-01-10T09:50:52.978907Z",
     "iopub.status.busy": "2021-01-10T09:50:52.978241Z",
     "iopub.status.idle": "2021-01-10T09:50:52.983209Z",
     "shell.execute_reply": "2021-01-10T09:50:52.983704Z"
    },
    "papermill": {
     "duration": 0.0251,
     "end_time": "2021-01-10T09:50:52.983877",
     "exception": false,
     "start_time": "2021-01-10T09:50:52.958777",
     "status": "completed"
    },
    "tags": []
   },
   "outputs": [
    {
     "data": {
      "text/plain": [
       "array([[0, 0, 0, ..., 0, 0, 0],\n",
       "       [0, 0, 0, ..., 0, 0, 0],\n",
       "       [0, 0, 0, ..., 0, 0, 0],\n",
       "       ...,\n",
       "       [0, 0, 0, ..., 0, 0, 0],\n",
       "       [0, 0, 0, ..., 0, 0, 0],\n",
       "       [0, 0, 0, ..., 0, 0, 0]])"
      ]
     },
     "execution_count": 12,
     "metadata": {},
     "output_type": "execute_result"
    }
   ],
   "source": [
    "test"
   ]
  },
  {
   "cell_type": "code",
   "execution_count": 13,
   "metadata": {
    "execution": {
     "iopub.execute_input": "2021-01-10T09:50:53.024251Z",
     "iopub.status.busy": "2021-01-10T09:50:53.023506Z",
     "iopub.status.idle": "2021-01-10T09:50:54.235956Z",
     "shell.execute_reply": "2021-01-10T09:50:54.235418Z"
    },
    "papermill": {
     "duration": 1.234754,
     "end_time": "2021-01-10T09:50:54.236075",
     "exception": false,
     "start_time": "2021-01-10T09:50:53.001321",
     "status": "completed"
    },
    "tags": []
   },
   "outputs": [],
   "source": [
    "predict_y=LM.predict(test)"
   ]
  },
  {
   "cell_type": "code",
   "execution_count": 14,
   "metadata": {
    "execution": {
     "iopub.execute_input": "2021-01-10T09:50:54.275953Z",
     "iopub.status.busy": "2021-01-10T09:50:54.275018Z",
     "iopub.status.idle": "2021-01-10T09:50:54.278968Z",
     "shell.execute_reply": "2021-01-10T09:50:54.279431Z"
    },
    "papermill": {
     "duration": 0.026082,
     "end_time": "2021-01-10T09:50:54.279567",
     "exception": false,
     "start_time": "2021-01-10T09:50:54.253485",
     "status": "completed"
    },
    "tags": []
   },
   "outputs": [
    {
     "data": {
      "text/plain": [
       "array([2, 0, 9, ..., 3, 9, 2])"
      ]
     },
     "execution_count": 14,
     "metadata": {},
     "output_type": "execute_result"
    }
   ],
   "source": [
    "predict_y"
   ]
  },
  {
   "cell_type": "markdown",
   "metadata": {
    "papermill": {
     "duration": 0.017207,
     "end_time": "2021-01-10T09:50:54.314268",
     "exception": false,
     "start_time": "2021-01-10T09:50:54.297061",
     "status": "completed"
    },
    "tags": []
   },
   "source": [
    "Sample output"
   ]
  },
  {
   "cell_type": "code",
   "execution_count": 15,
   "metadata": {
    "execution": {
     "iopub.execute_input": "2021-01-10T09:50:54.352920Z",
     "iopub.status.busy": "2021-01-10T09:50:54.351980Z",
     "iopub.status.idle": "2021-01-10T09:50:54.357320Z",
     "shell.execute_reply": "2021-01-10T09:50:54.357735Z"
    },
    "papermill": {
     "duration": 0.026259,
     "end_time": "2021-01-10T09:50:54.357907",
     "exception": false,
     "start_time": "2021-01-10T09:50:54.331648",
     "status": "completed"
    },
    "tags": []
   },
   "outputs": [
    {
     "data": {
      "text/plain": [
       "(28000,)"
      ]
     },
     "execution_count": 15,
     "metadata": {},
     "output_type": "execute_result"
    }
   ],
   "source": [
    "predict_y.shape"
   ]
  },
  {
   "cell_type": "markdown",
   "metadata": {
    "papermill": {
     "duration": 0.017634,
     "end_time": "2021-01-10T09:50:54.393659",
     "exception": false,
     "start_time": "2021-01-10T09:50:54.376025",
     "status": "completed"
    },
    "tags": []
   },
   "source": [
    "Creating dataframe of the output(predic_y)"
   ]
  },
  {
   "cell_type": "code",
   "execution_count": 16,
   "metadata": {
    "execution": {
     "iopub.execute_input": "2021-01-10T09:50:54.433766Z",
     "iopub.status.busy": "2021-01-10T09:50:54.432769Z",
     "iopub.status.idle": "2021-01-10T09:50:54.446308Z",
     "shell.execute_reply": "2021-01-10T09:50:54.446741Z"
    },
    "papermill": {
     "duration": 0.035033,
     "end_time": "2021-01-10T09:50:54.446916",
     "exception": false,
     "start_time": "2021-01-10T09:50:54.411883",
     "status": "completed"
    },
    "tags": []
   },
   "outputs": [],
   "source": [
    "out_dist={'ImageId':[a for a in range(1,28001)],'Label':predict_y}\n",
    "answ=pd.DataFrame(out_dist)"
   ]
  },
  {
   "cell_type": "code",
   "execution_count": 17,
   "metadata": {
    "execution": {
     "iopub.execute_input": "2021-01-10T09:50:54.487185Z",
     "iopub.status.busy": "2021-01-10T09:50:54.486243Z",
     "iopub.status.idle": "2021-01-10T09:50:54.892814Z",
     "shell.execute_reply": "2021-01-10T09:50:54.892234Z"
    },
    "papermill": {
     "duration": 0.427832,
     "end_time": "2021-01-10T09:50:54.892988",
     "exception": false,
     "start_time": "2021-01-10T09:50:54.465156",
     "status": "completed"
    },
    "tags": []
   },
   "outputs": [],
   "source": [
    "answ.to_csv('submission.csv', index=False)"
   ]
  },
  {
   "cell_type": "code",
   "execution_count": 18,
   "metadata": {
    "execution": {
     "iopub.execute_input": "2021-01-10T09:50:54.942077Z",
     "iopub.status.busy": "2021-01-10T09:50:54.941193Z",
     "iopub.status.idle": "2021-01-10T09:50:54.945699Z",
     "shell.execute_reply": "2021-01-10T09:50:54.945086Z"
    },
    "papermill": {
     "duration": 0.034413,
     "end_time": "2021-01-10T09:50:54.945811",
     "exception": false,
     "start_time": "2021-01-10T09:50:54.911398",
     "status": "completed"
    },
    "tags": []
   },
   "outputs": [
    {
     "data": {
      "text/html": [
       "<div>\n",
       "<style scoped>\n",
       "    .dataframe tbody tr th:only-of-type {\n",
       "        vertical-align: middle;\n",
       "    }\n",
       "\n",
       "    .dataframe tbody tr th {\n",
       "        vertical-align: top;\n",
       "    }\n",
       "\n",
       "    .dataframe thead th {\n",
       "        text-align: right;\n",
       "    }\n",
       "</style>\n",
       "<table border=\"1\" class=\"dataframe\">\n",
       "  <thead>\n",
       "    <tr style=\"text-align: right;\">\n",
       "      <th></th>\n",
       "      <th>ImageId</th>\n",
       "      <th>Label</th>\n",
       "    </tr>\n",
       "  </thead>\n",
       "  <tbody>\n",
       "    <tr>\n",
       "      <th>0</th>\n",
       "      <td>1</td>\n",
       "      <td>2</td>\n",
       "    </tr>\n",
       "    <tr>\n",
       "      <th>1</th>\n",
       "      <td>2</td>\n",
       "      <td>0</td>\n",
       "    </tr>\n",
       "    <tr>\n",
       "      <th>2</th>\n",
       "      <td>3</td>\n",
       "      <td>9</td>\n",
       "    </tr>\n",
       "    <tr>\n",
       "      <th>3</th>\n",
       "      <td>4</td>\n",
       "      <td>9</td>\n",
       "    </tr>\n",
       "    <tr>\n",
       "      <th>4</th>\n",
       "      <td>5</td>\n",
       "      <td>3</td>\n",
       "    </tr>\n",
       "    <tr>\n",
       "      <th>...</th>\n",
       "      <td>...</td>\n",
       "      <td>...</td>\n",
       "    </tr>\n",
       "    <tr>\n",
       "      <th>27995</th>\n",
       "      <td>27996</td>\n",
       "      <td>9</td>\n",
       "    </tr>\n",
       "    <tr>\n",
       "      <th>27996</th>\n",
       "      <td>27997</td>\n",
       "      <td>7</td>\n",
       "    </tr>\n",
       "    <tr>\n",
       "      <th>27997</th>\n",
       "      <td>27998</td>\n",
       "      <td>3</td>\n",
       "    </tr>\n",
       "    <tr>\n",
       "      <th>27998</th>\n",
       "      <td>27999</td>\n",
       "      <td>9</td>\n",
       "    </tr>\n",
       "    <tr>\n",
       "      <th>27999</th>\n",
       "      <td>28000</td>\n",
       "      <td>2</td>\n",
       "    </tr>\n",
       "  </tbody>\n",
       "</table>\n",
       "<p>28000 rows × 2 columns</p>\n",
       "</div>"
      ],
      "text/plain": [
       "       ImageId  Label\n",
       "0            1      2\n",
       "1            2      0\n",
       "2            3      9\n",
       "3            4      9\n",
       "4            5      3\n",
       "...        ...    ...\n",
       "27995    27996      9\n",
       "27996    27997      7\n",
       "27997    27998      3\n",
       "27998    27999      9\n",
       "27999    28000      2\n",
       "\n",
       "[28000 rows x 2 columns]"
      ]
     },
     "execution_count": 18,
     "metadata": {},
     "output_type": "execute_result"
    }
   ],
   "source": [
    "answ"
   ]
  },
  {
   "cell_type": "markdown",
   "metadata": {
    "papermill": {
     "duration": 0.018491,
     "end_time": "2021-01-10T09:50:54.983414",
     "exception": false,
     "start_time": "2021-01-10T09:50:54.964923",
     "status": "completed"
    },
    "tags": []
   },
   "source": [
    "**TEST USING REAL IMAGE**"
   ]
  },
  {
   "cell_type": "code",
   "execution_count": 19,
   "metadata": {
    "execution": {
     "iopub.execute_input": "2021-01-10T09:50:55.027413Z",
     "iopub.status.busy": "2021-01-10T09:50:55.026758Z",
     "iopub.status.idle": "2021-01-10T09:50:55.031681Z",
     "shell.execute_reply": "2021-01-10T09:50:55.031128Z"
    },
    "papermill": {
     "duration": 0.029302,
     "end_time": "2021-01-10T09:50:55.031796",
     "exception": false,
     "start_time": "2021-01-10T09:50:55.002494",
     "status": "completed"
    },
    "tags": []
   },
   "outputs": [],
   "source": [
    "from PIL import Image, ImageGrab"
   ]
  },
  {
   "cell_type": "code",
   "execution_count": 20,
   "metadata": {
    "execution": {
     "iopub.execute_input": "2021-01-10T09:50:55.072740Z",
     "iopub.status.busy": "2021-01-10T09:50:55.072122Z",
     "iopub.status.idle": "2021-01-10T09:50:55.249628Z",
     "shell.execute_reply": "2021-01-10T09:50:55.248967Z"
    },
    "papermill": {
     "duration": 0.199057,
     "end_time": "2021-01-10T09:50:55.249745",
     "exception": false,
     "start_time": "2021-01-10T09:50:55.050688",
     "status": "completed"
    },
    "tags": []
   },
   "outputs": [
    {
     "name": "stdout",
     "output_type": "stream",
     "text": [
      "[3]\n"
     ]
    },
    {
     "data": {
      "image/png": "[encoded data removed]",
      "text/plain": [
       "<Figure size 432x288 with 1 Axes>"
      ]
     },
     "metadata": {
      "needs_background": "light"
     },
     "output_type": "display_data"
    }
   ],
   "source": [
    "im1 = Image.open('../input/3image/3.jfif')\n",
    "def predict_digit1(img):\n",
    "    img = img.convert('L', dither=Image.NONE)\n",
    "    img = img.resize((28,28))\n",
    "    img = np.array(img)\n",
    "    img=np.invert(img)\n",
    "    plt.imshow(img,cmap=matplotlib.cm.binary,interpolation='nearest')\n",
    "    res = LM.predict([img.flatten()])\n",
    "    return res\n",
    "print(predict_digit1(im1))"
   ]
  },
  {
   "cell_type": "markdown",
   "metadata": {
    "papermill": {
     "duration": 0.019298,
     "end_time": "2021-01-10T09:50:55.288768",
     "exception": false,
     "start_time": "2021-01-10T09:50:55.269470",
     "status": "completed"
    },
    "tags": []
   },
   "source": [
    "You can see that it clearely identify the image but its miss identify  in many Cases"
   ]
  },
  {
   "cell_type": "code",
   "execution_count": null,
   "metadata": {
    "papermill": {
     "duration": 0.02002,
     "end_time": "2021-01-10T09:50:55.328426",
     "exception": false,
     "start_time": "2021-01-10T09:50:55.308406",
     "status": "completed"
    },
    "tags": []
   },
   "outputs": [],
   "source": []
  }
 ],
 "metadata": {
  "kernelspec": {
   "display_name": "Python 3",
   "language": "python",
   "name": "python3"
  },
  "language_info": {
   "codemirror_mode": {
    "name": "ipython",
    "version": 3
   },
   "file_extension": ".py",
   "mimetype": "text/x-python",
   "name": "python",
   "nbconvert_exporter": "python",
   "pygments_lexer": "ipython3",
   "version": "3.7.6"
  },
  "papermill": {
   "duration": 47.609524,
   "end_time": "2021-01-10T09:50:55.456425",
   "environment_variables": {},
   "exception": null,
   "input_path": "__notebook__.ipynb",
   "output_path": "__notebook__.ipynb",
   "parameters": {},
   "start_time": "2021-01-10T09:50:07.846901",
   "version": "2.1.0"
  }
 },
 "nbformat": 4,
 "nbformat_minor": 4
}
